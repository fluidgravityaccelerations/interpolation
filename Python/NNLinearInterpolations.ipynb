{
  "nbformat": 4,
  "nbformat_minor": 0,
  "metadata": {
    "colab": {
      "provenance": []
    },
    "kernelspec": {
      "name": "python3",
      "display_name": "Python 3"
    },
    "language_info": {
      "name": "python"
    }
  },
  "cells": [
    {
      "cell_type": "code",
      "source": [
        "import numpy as np"
      ],
      "metadata": {
        "id": "R9lEoFRL3BRM"
      },
      "execution_count": 1,
      "outputs": []
    },
    {
      "cell_type": "code",
      "source": [
        "def nearest_neighbor_interpolation_1d(x, y, xi):\n",
        "    \"\"\"\n",
        "    Nearest-neighbor interpolation for uniformly spaced samples.\n",
        "    \"\"\"\n",
        "    h = x[1] - x[0]                                     # uniform spacing\n",
        "    idx = np.round((xi - x[0]) / h).astype(int) + 1     # MATLAB-style 1-based index\n",
        "    idx = np.clip(idx, 1, len(x))                       # clamp to [1, len(x)]\n",
        "    return y[idx - 1]                                   # convert to 0-based indexing"
      ],
      "metadata": {
        "id": "zuRE1bs23U1B"
      },
      "execution_count": 2,
      "outputs": []
    },
    {
      "cell_type": "code",
      "source": [
        "def linear_interpolation_1d(x, y, xi):\n",
        "    \"\"\"\n",
        "    Linear interpolation for uniformly spaced samples.\n",
        "    \"\"\"\n",
        "    h = x[1] - x[0]                          # uniform spacing\n",
        "    idx = np.floor((xi - x[0]) / h).astype(int) + 1\n",
        "    idx = np.clip(idx, 1, len(x) - 1)                  # clamp to [1, len(x)-1]\n",
        "\n",
        "    alpha = (xi - x[idx - 1]) / h\n",
        "    return (1 - alpha) * y[idx - 1] + alpha * y[idx]"
      ],
      "metadata": {
        "id": "X4c3cjLy3Wvo"
      },
      "execution_count": 3,
      "outputs": []
    },
    {
      "cell_type": "code",
      "execution_count": 4,
      "metadata": {
        "colab": {
          "base_uri": "https://localhost:8080/"
        },
        "id": "1kLRdfx3261O",
        "outputId": "1627464b-0903-4983-f80e-1b71a15518dd"
      },
      "outputs": [
        {
          "output_type": "stream",
          "name": "stdout",
          "text": [
            "RMS error Nearest Neighbor = 0.000000000000000\n",
            "RMS error Linear = 0.000000000000002\n"
          ]
        }
      ],
      "source": [
        "# -------------------------------\n",
        "# Test script (equivalent to MATLAB code)\n",
        "# -------------------------------\n",
        "\n",
        "N = 100\n",
        "\n",
        "xin = np.linspace(0, np.pi, N)              # input sampling points\n",
        "yin = np.sin(xin)                           # input samples\n",
        "\n",
        "xout = np.pi * np.random.rand(N)            # random output sampling points\n",
        "\n",
        "# --- Nearest Neighbor ---\n",
        "yout_nearest = nearest_neighbor_interpolation_1d(xin, yin, xout)\n",
        "yout_nearest_numpy = np.interp(xout, xin, yin, left=yin[0], right=yin[-1])  # linear only\n",
        "# Numpy doesn’t have 'nearest' option directly, so we roll our own check:\n",
        "nearest_idx = np.clip(np.round((xout - xin[0]) / (xin[1] - xin[0])).astype(int), 0, len(xin)-1)\n",
        "yout_nearest_numpy = yin[nearest_idx]\n",
        "\n",
        "rms_nearest = 100 * np.sqrt(np.sum(np.abs(yout_nearest - yout_nearest_numpy) ** 2)) / np.sum(np.abs(yout_nearest_numpy) ** 2)\n",
        "print(f\"RMS error Nearest Neighbor = {rms_nearest:.15f}\")\n",
        "\n",
        "# --- Linear ---\n",
        "yout_linear = linear_interpolation_1d(xin, yin, xout)\n",
        "yout_linear_numpy = np.interp(xout, xin, yin)  # np.interp = linear interpolation\n",
        "rms_linear = 100 * np.sqrt(np.sum(np.abs(yout_linear - yout_linear_numpy) ** 2)) / np.sum(np.abs(yout_linear_numpy) ** 2)\n",
        "print(f\"RMS error Linear = {rms_linear:.15f}\")\n"
      ]
    }
  ]
}
